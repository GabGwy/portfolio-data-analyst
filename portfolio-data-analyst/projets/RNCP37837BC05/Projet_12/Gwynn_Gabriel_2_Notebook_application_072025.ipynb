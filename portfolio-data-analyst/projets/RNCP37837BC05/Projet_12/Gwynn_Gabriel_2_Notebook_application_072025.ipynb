{
 "cells": [
  {
   "cell_type": "markdown",
   "id": "9d84c966-9321-4499-b4c6-d9b713d8cae1",
   "metadata": {},
   "source": [
    "# 1 Chargement du modèle de prediction"
   ]
  },
  {
   "cell_type": "code",
   "execution_count": 2,
   "id": "ab117ebe-4c89-4465-8b37-94384817d8a3",
   "metadata": {},
   "outputs": [
    {
     "name": "stdout",
     "output_type": "stream",
     "text": [
      " Modèle chargé. Features attendues : ['diagonal', 'height_left', 'height_right', 'margin_low', 'margin_up', 'length']\n"
     ]
    }
   ],
   "source": [
    "# 1) Imports\n",
    "import joblib\n",
    "import pandas as pd\n",
    "import numpy as np\n",
    "\n",
    "# 2) Charger le pipeline sauvegardé\n",
    "bundle = joblib.load(\"rf_no_pca_pipeline.joblib\")\n",
    "pipe = bundle[\"pipeline\"]\n",
    "FEATURES = bundle[\"features\"]\n",
    "print(\" Modèle chargé. Features attendues :\", FEATURES)\n"
   ]
  },
  {
   "cell_type": "markdown",
   "id": "dcb87907-1dcf-4667-8715-a27ce8958349",
   "metadata": {},
   "source": [
    "# 2 Chargement du fichier à prédire"
   ]
  },
  {
   "cell_type": "markdown",
   "id": "7f13adcb-8881-4789-aa35-afc6b493b07c",
   "metadata": {},
   "source": [
    "### attention : le fichier d’entrée doit contenir en colonnes au moins diagonal, height_left, height_right, margin_low, margin_up, length (noms exacts)"
   ]
  },
  {
   "cell_type": "code",
   "execution_count": 5,
   "id": "49dd2411-334d-458e-a8b0-18d82dfeee32",
   "metadata": {},
   "outputs": [
    {
     "name": "stdout",
     "output_type": "stream",
     "text": [
      "Aperçu du fichier d'entrée :\n"
     ]
    },
    {
     "data": {
      "text/html": [
       "<div>\n",
       "<style scoped>\n",
       "    .dataframe tbody tr th:only-of-type {\n",
       "        vertical-align: middle;\n",
       "    }\n",
       "\n",
       "    .dataframe tbody tr th {\n",
       "        vertical-align: top;\n",
       "    }\n",
       "\n",
       "    .dataframe thead th {\n",
       "        text-align: right;\n",
       "    }\n",
       "</style>\n",
       "<table border=\"1\" class=\"dataframe\">\n",
       "  <thead>\n",
       "    <tr style=\"text-align: right;\">\n",
       "      <th></th>\n",
       "      <th>diagonal</th>\n",
       "      <th>height_left</th>\n",
       "      <th>height_right</th>\n",
       "      <th>margin_low</th>\n",
       "      <th>margin_up</th>\n",
       "      <th>length</th>\n",
       "      <th>id</th>\n",
       "    </tr>\n",
       "  </thead>\n",
       "  <tbody>\n",
       "    <tr>\n",
       "      <th>0</th>\n",
       "      <td>172.09</td>\n",
       "      <td>103.95</td>\n",
       "      <td>103.73</td>\n",
       "      <td>4.39</td>\n",
       "      <td>3.09</td>\n",
       "      <td>113.19</td>\n",
       "      <td>B_1</td>\n",
       "    </tr>\n",
       "    <tr>\n",
       "      <th>1</th>\n",
       "      <td>171.52</td>\n",
       "      <td>104.17</td>\n",
       "      <td>104.03</td>\n",
       "      <td>5.27</td>\n",
       "      <td>3.16</td>\n",
       "      <td>111.82</td>\n",
       "      <td>B_2</td>\n",
       "    </tr>\n",
       "    <tr>\n",
       "      <th>2</th>\n",
       "      <td>171.78</td>\n",
       "      <td>103.80</td>\n",
       "      <td>103.75</td>\n",
       "      <td>3.81</td>\n",
       "      <td>3.24</td>\n",
       "      <td>113.39</td>\n",
       "      <td>B_3</td>\n",
       "    </tr>\n",
       "    <tr>\n",
       "      <th>3</th>\n",
       "      <td>172.02</td>\n",
       "      <td>104.08</td>\n",
       "      <td>103.99</td>\n",
       "      <td>5.57</td>\n",
       "      <td>3.30</td>\n",
       "      <td>111.10</td>\n",
       "      <td>B_4</td>\n",
       "    </tr>\n",
       "    <tr>\n",
       "      <th>4</th>\n",
       "      <td>171.79</td>\n",
       "      <td>104.34</td>\n",
       "      <td>104.37</td>\n",
       "      <td>5.00</td>\n",
       "      <td>3.07</td>\n",
       "      <td>111.87</td>\n",
       "      <td>B_5</td>\n",
       "    </tr>\n",
       "  </tbody>\n",
       "</table>\n",
       "</div>"
      ],
      "text/plain": [
       "   diagonal  height_left  height_right  margin_low  margin_up  length   id\n",
       "0    172.09       103.95        103.73        4.39       3.09  113.19  B_1\n",
       "1    171.52       104.17        104.03        5.27       3.16  111.82  B_2\n",
       "2    171.78       103.80        103.75        3.81       3.24  113.39  B_3\n",
       "3    172.02       104.08        103.99        5.57       3.30  111.10  B_4\n",
       "4    171.79       104.34        104.37        5.00       3.07  111.87  B_5"
      ]
     },
     "metadata": {},
     "output_type": "display_data"
    },
    {
     "name": "stdout",
     "output_type": "stream",
     "text": [
      "(5, 7)\n"
     ]
    }
   ],
   "source": [
    "# Indique le chemin du fichier à prédire (séparateur ; comme dans ma base de données initial )\n",
    "INPUT_PATH = \"billets_test.csv\"   # <-- à adapter\n",
    "OUTPUT_PATH = \"billets_predictions.csv\" # <-- où je veux écrire le résultat\n",
    "\n",
    "# Chargement \n",
    "df_in = pd.read_csv(INPUT_PATH) #ajouter => , sep=\";\" si séparateur ;\n",
    "\n",
    "print(\"Aperçu du fichier d'entrée :\")\n",
    "display(df_in.head())\n",
    "print(df_in.shape)\n"
   ]
  },
  {
   "cell_type": "markdown",
   "id": "d2493354-bb1c-4b52-834d-d02a4bd64a6f",
   "metadata": {},
   "source": [
    "# 3 Contrôle et prépartion des valeurs manquantes"
   ]
  },
  {
   "cell_type": "code",
   "execution_count": 7,
   "id": "ee360722-ac2b-44bc-b7f2-17a3eb95bb0d",
   "metadata": {},
   "outputs": [
    {
     "name": "stdout",
     "output_type": "stream",
     "text": [
      " Lignes complètes conservées : 5 (lignes supprimées : 0)\n"
     ]
    }
   ],
   "source": [
    "# 3.1 Vérifier la présence des colonnes nécessaires\n",
    "missing_cols = [c for c in FEATURES if c not in df_in.columns]\n",
    "if missing_cols:\n",
    "    raise ValueError(f\"Colonnes manquantes dans le fichier d'entrée : {missing_cols}\")\n",
    "\n",
    "# 3.2 Conserver uniquement les features nécessaires (on laisse les autres pour les réattacher après)\n",
    "df_feat = df_in[FEATURES].copy()\n",
    "\n",
    "# 3.3 Aligner le traitement avec l'entraînement : suppression des lignes incomplètes\n",
    "before = len(df_feat)\n",
    "mask_complete = df_feat[FEATURES].notna().all(axis=1)\n",
    "df_feat = df_feat[mask_complete]\n",
    "dropped = before - len(df_feat)\n",
    "\n",
    "# Conserver les mêmes lignes côté df_in pour réattacher les prédictions proprement\n",
    "df_clean_in = df_in.loc[mask_complete].copy()\n",
    "\n",
    "print(f\" Lignes complètes conservées : {len(df_feat)} (lignes supprimées : {dropped})\")\n"
   ]
  },
  {
   "cell_type": "markdown",
   "id": "b95067c4-de46-4262-b24b-f89251f808c2",
   "metadata": {},
   "source": [
    "# 4 Prédire (probailités + classes)"
   ]
  },
  {
   "cell_type": "code",
   "execution_count": 9,
   "id": "4b204061-83cb-46b1-9661-da7117e8a418",
   "metadata": {},
   "outputs": [
    {
     "name": "stdout",
     "output_type": "stream",
     "text": [
      "Aperçu des prédictions :\n"
     ]
    },
    {
     "data": {
      "text/html": [
       "<div>\n",
       "<style scoped>\n",
       "    .dataframe tbody tr th:only-of-type {\n",
       "        vertical-align: middle;\n",
       "    }\n",
       "\n",
       "    .dataframe tbody tr th {\n",
       "        vertical-align: top;\n",
       "    }\n",
       "\n",
       "    .dataframe thead th {\n",
       "        text-align: right;\n",
       "    }\n",
       "</style>\n",
       "<table border=\"1\" class=\"dataframe\">\n",
       "  <thead>\n",
       "    <tr style=\"text-align: right;\">\n",
       "      <th></th>\n",
       "      <th>diagonal</th>\n",
       "      <th>height_left</th>\n",
       "      <th>height_right</th>\n",
       "      <th>margin_low</th>\n",
       "      <th>margin_up</th>\n",
       "      <th>length</th>\n",
       "      <th>id</th>\n",
       "      <th>proba_true</th>\n",
       "      <th>prediction_bool</th>\n",
       "      <th>prediction_label</th>\n",
       "    </tr>\n",
       "  </thead>\n",
       "  <tbody>\n",
       "    <tr>\n",
       "      <th>0</th>\n",
       "      <td>172.09</td>\n",
       "      <td>103.95</td>\n",
       "      <td>103.73</td>\n",
       "      <td>4.39</td>\n",
       "      <td>3.09</td>\n",
       "      <td>113.19</td>\n",
       "      <td>B_1</td>\n",
       "      <td>1.0000</td>\n",
       "      <td>True</td>\n",
       "      <td>Vrai billet</td>\n",
       "    </tr>\n",
       "    <tr>\n",
       "      <th>1</th>\n",
       "      <td>171.52</td>\n",
       "      <td>104.17</td>\n",
       "      <td>104.03</td>\n",
       "      <td>5.27</td>\n",
       "      <td>3.16</td>\n",
       "      <td>111.82</td>\n",
       "      <td>B_2</td>\n",
       "      <td>0.0000</td>\n",
       "      <td>False</td>\n",
       "      <td>Faux billet</td>\n",
       "    </tr>\n",
       "    <tr>\n",
       "      <th>2</th>\n",
       "      <td>171.78</td>\n",
       "      <td>103.80</td>\n",
       "      <td>103.75</td>\n",
       "      <td>3.81</td>\n",
       "      <td>3.24</td>\n",
       "      <td>113.39</td>\n",
       "      <td>B_3</td>\n",
       "      <td>1.0000</td>\n",
       "      <td>True</td>\n",
       "      <td>Vrai billet</td>\n",
       "    </tr>\n",
       "    <tr>\n",
       "      <th>3</th>\n",
       "      <td>172.02</td>\n",
       "      <td>104.08</td>\n",
       "      <td>103.99</td>\n",
       "      <td>5.57</td>\n",
       "      <td>3.30</td>\n",
       "      <td>111.10</td>\n",
       "      <td>B_4</td>\n",
       "      <td>0.0033</td>\n",
       "      <td>False</td>\n",
       "      <td>Faux billet</td>\n",
       "    </tr>\n",
       "    <tr>\n",
       "      <th>4</th>\n",
       "      <td>171.79</td>\n",
       "      <td>104.34</td>\n",
       "      <td>104.37</td>\n",
       "      <td>5.00</td>\n",
       "      <td>3.07</td>\n",
       "      <td>111.87</td>\n",
       "      <td>B_5</td>\n",
       "      <td>0.0033</td>\n",
       "      <td>False</td>\n",
       "      <td>Faux billet</td>\n",
       "    </tr>\n",
       "  </tbody>\n",
       "</table>\n",
       "</div>"
      ],
      "text/plain": [
       "   diagonal  height_left  height_right  margin_low  margin_up  length   id  \\\n",
       "0    172.09       103.95        103.73        4.39       3.09  113.19  B_1   \n",
       "1    171.52       104.17        104.03        5.27       3.16  111.82  B_2   \n",
       "2    171.78       103.80        103.75        3.81       3.24  113.39  B_3   \n",
       "3    172.02       104.08        103.99        5.57       3.30  111.10  B_4   \n",
       "4    171.79       104.34        104.37        5.00       3.07  111.87  B_5   \n",
       "\n",
       "   proba_true  prediction_bool prediction_label  \n",
       "0      1.0000             True      Vrai billet  \n",
       "1      0.0000            False      Faux billet  \n",
       "2      1.0000             True      Vrai billet  \n",
       "3      0.0033            False      Faux billet  \n",
       "4      0.0033            False      Faux billet  "
      ]
     },
     "metadata": {},
     "output_type": "display_data"
    }
   ],
   "source": [
    "# 4.1 Probabilités de \"vrai billet\" (classe True) -> colonne 1 si y est booléen\n",
    "proba_true = pipe.predict_proba(df_feat)[:, 1]\n",
    "\n",
    "# 4.2 Classe booléenne (seuil 0.5 par défaut)\n",
    "pred_bool = proba_true >= 0.5\n",
    "\n",
    "# Seuil de décision : 0.5 par défaut. Si, métier, on veut encore moins de faux négatifs, \n",
    "# on peut baisser le seuil (ex. 0.45) pour être plus “strict” sur la détection des faux.\n",
    "\n",
    "# 4.3 Étiquette lisible\n",
    "pred_label = np.where(pred_bool, \"Vrai billet\", \"Faux billet\")\n",
    "\n",
    "# 4.4 Réattacher au DataFrame d'entrée filtré\n",
    "df_out = df_clean_in.copy()\n",
    "df_out[\"proba_true\"] = proba_true.round(4)\n",
    "df_out[\"prediction_bool\"] = pred_bool\n",
    "df_out[\"prediction_label\"] = pred_label\n",
    "\n",
    "print(\"Aperçu des prédictions :\")\n",
    "display(df_out.head())\n"
   ]
  },
  {
   "cell_type": "markdown",
   "id": "fda3d02f-38cd-4a26-aa96-dd681130c425",
   "metadata": {},
   "source": [
    "# 5 Export du fichier enrichi"
   ]
  },
  {
   "cell_type": "code",
   "execution_count": 11,
   "id": "fbfb7982-cb5a-4394-8db2-f2abe3f1b557",
   "metadata": {},
   "outputs": [
    {
     "name": "stdout",
     "output_type": "stream",
     "text": [
      " Fichier prédictions écrit : billets_predictions.csv\n",
      "Résumé des classes prédites :\n",
      "prediction_label\n",
      "Faux billet    3\n",
      "Vrai billet    2\n",
      "Name: count, dtype: int64\n"
     ]
    }
   ],
   "source": [
    "# Sauvegarde (même séparateur ;)\n",
    "df_out.to_csv(OUTPUT_PATH, index=False) # si séparateur \";\" alors ajouter après output_path => , sep=\";\"\n",
    "print(f\" Fichier prédictions écrit : {OUTPUT_PATH}\")\n",
    "print(\"Résumé des classes prédites :\")\n",
    "print(df_out[\"prediction_label\"].value_counts())\n"
   ]
  },
  {
   "cell_type": "markdown",
   "id": "e3a0d420-78be-4746-b9ba-822bdb91fb34",
   "metadata": {},
   "source": [
    "# 6 Bonus : si fichier contient quand même is_genuine (pour test interne)"
   ]
  },
  {
   "cell_type": "code",
   "execution_count": 13,
   "id": "e700d71c-019b-45fe-94d5-498d1a7c0e9c",
   "metadata": {},
   "outputs": [],
   "source": [
    "if \"is_genuine\" in df_out.columns:\n",
    "    from sklearn.metrics import classification_report, confusion_matrix\n",
    "    print(\"\\n🔎 Évaluation interne (car 'is_genuine' présent) :\")\n",
    "    print(classification_report(df_out[\"is_genuine\"], df_out[\"prediction_bool\"],\n",
    "                                target_names=[\"Faux billet\", \"Vrai billet\"]))\n",
    "    print(\"Matrice de confusion :\")\n",
    "    print(confusion_matrix(df_out[\"is_genuine\"], df_out[\"prediction_bool\"]))\n"
   ]
  },
  {
   "cell_type": "markdown",
   "id": "e703a52b-14e2-4b1c-82a4-2494f9e74f16",
   "metadata": {},
   "source": [
    "# 7 Bonus bis : Zone d'abstention autour de 0.5"
   ]
  },
  {
   "cell_type": "code",
   "execution_count": 15,
   "id": "a3564c26-682c-4668-9752-742ce4a0a4a2",
   "metadata": {},
   "outputs": [
    {
     "name": "stdout",
     "output_type": "stream",
     "text": [
      "Répartition des prédictions (triage 3 classes) :\n",
      "prediction_3classes\n",
      "Faux billet    3\n",
      "Vrai billet    2\n",
      "Name: count, dtype: int64\n"
     ]
    }
   ],
   "source": [
    "# --- Paramètres de triage (à ajuster) ---\n",
    "LOW  = 0.45   # seuil bas de la zone d’abstention\n",
    "HIGH = 0.55   # seuil haut de la zone d’abstention\n",
    "\n",
    "# Probas déjà calculées plus haut : proba_true = pipe.predict_proba(df_feat)[:, 1]\n",
    "\n",
    "# 1) Catégorie tri-états\n",
    "def triage_label(p):\n",
    "    if p < LOW:\n",
    "        return \"Faux billet\"\n",
    "    elif p > HIGH:\n",
    "        return \"Vrai billet\"\n",
    "    else:\n",
    "        return \"À vérifier\"   # zone d’abstention\n",
    "\n",
    "df_out = df_clean_in.copy()\n",
    "df_out[\"proba_true\"] = proba_true\n",
    "df_out[\"prediction_3classes\"] = [triage_label(p) for p in df_out[\"proba_true\"]]\n",
    "\n",
    "# 2) Résumé\n",
    "print(\"Répartition des prédictions (triage 3 classes) :\")\n",
    "print(df_out[\"prediction_3classes\"].value_counts(dropna=False))\n",
    "\n",
    "\n"
   ]
  },
  {
   "cell_type": "code",
   "execution_count": null,
   "id": "2aeb842a-5c0d-4b6d-97b8-5c665d35cb5a",
   "metadata": {},
   "outputs": [],
   "source": []
  }
 ],
 "metadata": {
  "kernelspec": {
   "display_name": "Python 3 (ipykernel)",
   "language": "python",
   "name": "python3"
  },
  "language_info": {
   "codemirror_mode": {
    "name": "ipython",
    "version": 3
   },
   "file_extension": ".py",
   "mimetype": "text/x-python",
   "name": "python",
   "nbconvert_exporter": "python",
   "pygments_lexer": "ipython3",
   "version": "3.12.7"
  }
 },
 "nbformat": 4,
 "nbformat_minor": 5
}
